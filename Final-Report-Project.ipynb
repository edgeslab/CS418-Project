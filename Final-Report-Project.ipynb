{
 "cells": [
  {
   "cell_type": "markdown",
   "metadata": {},
   "source": [
    "# Data Analysis on Socioeconomic and Crime Trends in Chicago\n",
    "__Team Name__: Data Pirates<br>\n",
    "__Team Members__: Arsalan Babar • Imran Babar • Vraj Patel • Dilip Vemuri • Jason Yeoh<br>\n",
    "__Course/Term__: CS 418 (Spring 2019)"
   ]
  },
  {
   "cell_type": "markdown",
   "metadata": {},
   "source": [
    "# DATA\n",
    "- __Crimes in Chicago Since 2001__ [dataFiltered.csv]<br>\n",
    "Very large dataset. Required cleaning. Only needed the data from the years 2008 to 2012. In order to clean the data, the group fixed structural errors, removed unwanted outliers, and wrote a python script for cleaning. <br>\n",
    "\n",
    "- __Chicago Population (2010)__ [ChicagoPopulation.csv]<br>\n",
    "Gives the population for 77 neighborhoods in Chicago<br>\n",
    "\n",
    "With these two datasets, the team joined it on Community Area Number to get the crime rate per neighborhood."
   ]
  },
  {
   "cell_type": "code",
   "execution_count": 4,
   "metadata": {},
   "outputs": [
    {
     "data": {
      "text/html": [
       "<div>\n",
       "<style scoped>\n",
       "    .dataframe tbody tr th:only-of-type {\n",
       "        vertical-align: middle;\n",
       "    }\n",
       "\n",
       "    .dataframe tbody tr th {\n",
       "        vertical-align: top;\n",
       "    }\n",
       "\n",
       "    .dataframe thead th {\n",
       "        text-align: right;\n",
       "    }\n",
       "</style>\n",
       "<table border=\"1\" class=\"dataframe\">\n",
       "  <thead>\n",
       "    <tr style=\"text-align: right;\">\n",
       "      <th></th>\n",
       "      <th>Community Area</th>\n",
       "      <th>Crime Count</th>\n",
       "      <th>Population</th>\n",
       "      <th>Crime Rate</th>\n",
       "    </tr>\n",
       "  </thead>\n",
       "  <tbody>\n",
       "    <tr>\n",
       "      <th>1</th>\n",
       "      <td>1</td>\n",
       "      <td>7748</td>\n",
       "      <td>54991</td>\n",
       "      <td>14.09</td>\n",
       "    </tr>\n",
       "    <tr>\n",
       "      <th>2</th>\n",
       "      <td>2</td>\n",
       "      <td>6722</td>\n",
       "      <td>71942</td>\n",
       "      <td>9.34</td>\n",
       "    </tr>\n",
       "    <tr>\n",
       "      <th>3</th>\n",
       "      <td>3</td>\n",
       "      <td>7271</td>\n",
       "      <td>56362</td>\n",
       "      <td>12.90</td>\n",
       "    </tr>\n",
       "    <tr>\n",
       "      <th>4</th>\n",
       "      <td>4</td>\n",
       "      <td>3537</td>\n",
       "      <td>39493</td>\n",
       "      <td>8.96</td>\n",
       "    </tr>\n",
       "    <tr>\n",
       "      <th>5</th>\n",
       "      <td>5</td>\n",
       "      <td>2945</td>\n",
       "      <td>31867</td>\n",
       "      <td>9.24</td>\n",
       "    </tr>\n",
       "  </tbody>\n",
       "</table>\n",
       "</div>"
      ],
      "text/plain": [
       "   Community Area  Crime Count  Population  Crime Rate\n",
       "1               1         7748       54991       14.09\n",
       "2               2         6722       71942        9.34\n",
       "3               3         7271       56362       12.90\n",
       "4               4         3537       39493        8.96\n",
       "5               5         2945       31867        9.24"
      ]
     },
     "execution_count": 4,
     "metadata": {},
     "output_type": "execute_result"
    }
   ],
   "source": [
    "def f(row):\n",
    "    return round ((row['Crime Count'] / row['Population'])*100, 2)\n",
    "\n",
    "crimes = pd.read_csv(\"dataFiltered.csv\")\n",
    "population = pd.read_csv(\"ChicagoPopulation.csv\")\n",
    "population = population.set_index('Community Area Number')\n",
    "crimes['Year'] = crimes['Year'].fillna(0.0).apply(np.int64)\n",
    "crime = crimes.groupby('Community Area').count()['ID'].reset_index(name=\"Crime Count\")\n",
    "crime = crime.join(population, on=\"Community Area\")\n",
    "crime['Population '] = crime['Population '].fillna(0.0).apply(np.int64)\n",
    "crime['Community Area'] = crime['Community Area'].fillna(0.0).apply(np.int64)\n",
    "crime.columns = ['Community Area', 'Crime Count', 'Population']\n",
    "crime = crime.drop([0])\n",
    "crime['Crime Rate'] = crime.apply(f, axis=1)\n",
    "crime.head()"
   ]
  },
  {
   "cell_type": "markdown",
   "metadata": {},
   "source": [
    "- __Socioeconomic Trends__ <br> \n",
    "Not very large data set. Easy to utilize. The team fixed structural errors and dropped null values.<br>\n",
    "Dataset name: __ChicagoSocioecon.csv__"
   ]
  },
  {
   "cell_type": "code",
   "execution_count": 5,
   "metadata": {},
   "outputs": [
    {
     "data": {
      "text/html": [
       "<div>\n",
       "<style scoped>\n",
       "    .dataframe tbody tr th:only-of-type {\n",
       "        vertical-align: middle;\n",
       "    }\n",
       "\n",
       "    .dataframe tbody tr th {\n",
       "        vertical-align: top;\n",
       "    }\n",
       "\n",
       "    .dataframe thead th {\n",
       "        text-align: right;\n",
       "    }\n",
       "</style>\n",
       "<table border=\"1\" class=\"dataframe\">\n",
       "  <thead>\n",
       "    <tr style=\"text-align: right;\">\n",
       "      <th></th>\n",
       "      <th>COMMUNITY AREA NAME</th>\n",
       "      <th>PERCENT OF HOUSING CROWDED</th>\n",
       "      <th>PERCENT HOUSEHOLDS BELOW POVERTY</th>\n",
       "      <th>PERCENT AGED 16+ UNEMPLOYED</th>\n",
       "      <th>PERCENT AGED 25+ WITHOUT HIGH SCHOOL DIPLOMA</th>\n",
       "      <th>PERCENT AGED UNDER 18 OR OVER 64</th>\n",
       "      <th>PER CAPITA INCOME</th>\n",
       "      <th>HARDSHIP INDEX</th>\n",
       "    </tr>\n",
       "    <tr>\n",
       "      <th>Community Area Number</th>\n",
       "      <th></th>\n",
       "      <th></th>\n",
       "      <th></th>\n",
       "      <th></th>\n",
       "      <th></th>\n",
       "      <th></th>\n",
       "      <th></th>\n",
       "      <th></th>\n",
       "    </tr>\n",
       "  </thead>\n",
       "  <tbody>\n",
       "    <tr>\n",
       "      <th>1</th>\n",
       "      <td>Rogers Park</td>\n",
       "      <td>7.7</td>\n",
       "      <td>23.6</td>\n",
       "      <td>8.7</td>\n",
       "      <td>18.2</td>\n",
       "      <td>27.5</td>\n",
       "      <td>23939</td>\n",
       "      <td>39</td>\n",
       "    </tr>\n",
       "    <tr>\n",
       "      <th>2</th>\n",
       "      <td>West Ridge</td>\n",
       "      <td>7.8</td>\n",
       "      <td>17.2</td>\n",
       "      <td>8.8</td>\n",
       "      <td>20.8</td>\n",
       "      <td>38.5</td>\n",
       "      <td>23040</td>\n",
       "      <td>46</td>\n",
       "    </tr>\n",
       "    <tr>\n",
       "      <th>3</th>\n",
       "      <td>Uptown</td>\n",
       "      <td>3.8</td>\n",
       "      <td>24.0</td>\n",
       "      <td>8.9</td>\n",
       "      <td>11.8</td>\n",
       "      <td>22.2</td>\n",
       "      <td>35787</td>\n",
       "      <td>20</td>\n",
       "    </tr>\n",
       "    <tr>\n",
       "      <th>4</th>\n",
       "      <td>Lincoln Square</td>\n",
       "      <td>3.4</td>\n",
       "      <td>10.9</td>\n",
       "      <td>8.2</td>\n",
       "      <td>13.4</td>\n",
       "      <td>25.5</td>\n",
       "      <td>37524</td>\n",
       "      <td>17</td>\n",
       "    </tr>\n",
       "    <tr>\n",
       "      <th>5</th>\n",
       "      <td>North Center</td>\n",
       "      <td>0.3</td>\n",
       "      <td>7.5</td>\n",
       "      <td>5.2</td>\n",
       "      <td>4.5</td>\n",
       "      <td>26.2</td>\n",
       "      <td>57123</td>\n",
       "      <td>6</td>\n",
       "    </tr>\n",
       "  </tbody>\n",
       "</table>\n",
       "</div>"
      ],
      "text/plain": [
       "                      COMMUNITY AREA NAME  PERCENT OF HOUSING CROWDED  \\\n",
       "Community Area Number                                                   \n",
       "1                             Rogers Park                         7.7   \n",
       "2                              West Ridge                         7.8   \n",
       "3                                  Uptown                         3.8   \n",
       "4                          Lincoln Square                         3.4   \n",
       "5                            North Center                         0.3   \n",
       "\n",
       "                       PERCENT HOUSEHOLDS BELOW POVERTY  \\\n",
       "Community Area Number                                     \n",
       "1                                                  23.6   \n",
       "2                                                  17.2   \n",
       "3                                                  24.0   \n",
       "4                                                  10.9   \n",
       "5                                                   7.5   \n",
       "\n",
       "                       PERCENT AGED 16+ UNEMPLOYED  \\\n",
       "Community Area Number                                \n",
       "1                                              8.7   \n",
       "2                                              8.8   \n",
       "3                                              8.9   \n",
       "4                                              8.2   \n",
       "5                                              5.2   \n",
       "\n",
       "                       PERCENT AGED 25+ WITHOUT HIGH SCHOOL DIPLOMA  \\\n",
       "Community Area Number                                                 \n",
       "1                                                              18.2   \n",
       "2                                                              20.8   \n",
       "3                                                              11.8   \n",
       "4                                                              13.4   \n",
       "5                                                               4.5   \n",
       "\n",
       "                       PERCENT AGED UNDER 18 OR OVER 64  PER CAPITA INCOME   \\\n",
       "Community Area Number                                                         \n",
       "1                                                  27.5               23939   \n",
       "2                                                  38.5               23040   \n",
       "3                                                  22.2               35787   \n",
       "4                                                  25.5               37524   \n",
       "5                                                  26.2               57123   \n",
       "\n",
       "                       HARDSHIP INDEX  \n",
       "Community Area Number                  \n",
       "1                                  39  \n",
       "2                                  46  \n",
       "3                                  20  \n",
       "4                                  17  \n",
       "5                                   6  "
      ]
     },
     "execution_count": 5,
     "metadata": {},
     "output_type": "execute_result"
    }
   ],
   "source": [
    "socioecon = pd.read_csv(\"ChicagoSocioecon.csv\")\n",
    "socioecon['Community Area Number'] = pd.to_numeric( socioecon['Community Area Number'], downcast='signed')\n",
    "socioecon['Community Area Number'] = socioecon['Community Area Number'].fillna(0.0).apply(np.int64)\n",
    "socioecon['HARDSHIP INDEX'] = socioecon['HARDSHIP INDEX'].fillna(0.0).apply(np.int64)\n",
    "socioecon = socioecon.set_index('Community Area Number')\n",
    "socioecon = socioecon.dropna()\n",
    "socioecon.head()"
   ]
  },
  {
   "cell_type": "markdown",
   "metadata": {},
   "source": [
    "- __Chicago Map Boundaries [USED FOR VISUALIZATION]__<br>\n",
    "This dataset provides the geometrical specifications (such as perimeter, area, shape) of each of the 77 Chicago neighborhood."
   ]
  },
  {
   "cell_type": "code",
   "execution_count": 6,
   "metadata": {},
   "outputs": [
    {
     "data": {
      "text/html": [
       "<div>\n",
       "<style scoped>\n",
       "    .dataframe tbody tr th:only-of-type {\n",
       "        vertical-align: middle;\n",
       "    }\n",
       "\n",
       "    .dataframe tbody tr th {\n",
       "        vertical-align: top;\n",
       "    }\n",
       "\n",
       "    .dataframe thead th {\n",
       "        text-align: right;\n",
       "    }\n",
       "</style>\n",
       "<table border=\"1\" class=\"dataframe\">\n",
       "  <thead>\n",
       "    <tr style=\"text-align: right;\">\n",
       "      <th></th>\n",
       "      <th>community</th>\n",
       "      <th>shape_area</th>\n",
       "      <th>shape_len</th>\n",
       "      <th>geometry</th>\n",
       "    </tr>\n",
       "    <tr>\n",
       "      <th>Community Area Number</th>\n",
       "      <th></th>\n",
       "      <th></th>\n",
       "      <th></th>\n",
       "      <th></th>\n",
       "    </tr>\n",
       "  </thead>\n",
       "  <tbody>\n",
       "    <tr>\n",
       "      <th>1</th>\n",
       "      <td>ROGERS PARK</td>\n",
       "      <td>5.125990e+07</td>\n",
       "      <td>34052.397576</td>\n",
       "      <td>POLYGON ((-87.65455590025104 41.99816614970252...</td>\n",
       "    </tr>\n",
       "    <tr>\n",
       "      <th>2</th>\n",
       "      <td>WEST RIDGE</td>\n",
       "      <td>9.842909e+07</td>\n",
       "      <td>43020.689458</td>\n",
       "      <td>POLYGON ((-87.6846530946559 42.0194847726953, ...</td>\n",
       "    </tr>\n",
       "    <tr>\n",
       "      <th>3</th>\n",
       "      <td>UPTOWN</td>\n",
       "      <td>6.509564e+07</td>\n",
       "      <td>46972.794555</td>\n",
       "      <td>POLYGON ((-87.64102430213292 41.95480280553257...</td>\n",
       "    </tr>\n",
       "    <tr>\n",
       "      <th>4</th>\n",
       "      <td>LINCOLN SQUARE</td>\n",
       "      <td>7.135233e+07</td>\n",
       "      <td>36624.603085</td>\n",
       "      <td>POLYGON ((-87.6744075678037 41.97610340441675,...</td>\n",
       "    </tr>\n",
       "    <tr>\n",
       "      <th>5</th>\n",
       "      <td>NORTH CENTER</td>\n",
       "      <td>5.705417e+07</td>\n",
       "      <td>31391.669754</td>\n",
       "      <td>POLYGON ((-87.67336415409336 41.9323427446535,...</td>\n",
       "    </tr>\n",
       "  </tbody>\n",
       "</table>\n",
       "</div>"
      ],
      "text/plain": [
       "                            community    shape_area     shape_len  \\\n",
       "Community Area Number                                               \n",
       "1                         ROGERS PARK  5.125990e+07  34052.397576   \n",
       "2                          WEST RIDGE  9.842909e+07  43020.689458   \n",
       "3                              UPTOWN  6.509564e+07  46972.794555   \n",
       "4                      LINCOLN SQUARE  7.135233e+07  36624.603085   \n",
       "5                        NORTH CENTER  5.705417e+07  31391.669754   \n",
       "\n",
       "                                                                geometry  \n",
       "Community Area Number                                                     \n",
       "1                      POLYGON ((-87.65455590025104 41.99816614970252...  \n",
       "2                      POLYGON ((-87.6846530946559 42.0194847726953, ...  \n",
       "3                      POLYGON ((-87.64102430213292 41.95480280553257...  \n",
       "4                      POLYGON ((-87.6744075678037 41.97610340441675,...  \n",
       "5                      POLYGON ((-87.67336415409336 41.9323427446535,...  "
      ]
     },
     "execution_count": 6,
     "metadata": {},
     "output_type": "execute_result"
    }
   ],
   "source": [
    "chicago_map = gpd.read_file(\"geo_export_7740d8e1-a704-49b1-8276-e70c37a786a0.shp\")\n",
    "chicago_map['Community Area Number'] = pd.to_numeric(chicago_map['area_num_1'], downcast='signed')\n",
    "chicago_map = chicago_map.drop(['comarea', 'comarea_id', 'perimeter', 'area', 'area_numbe', 'area_num_1'], axis=1)\n",
    "chicago_map = chicago_map.set_index('Community Area Number').sort_values(by=\"Community Area Number\")\n",
    "chicago_map.head()"
   ]
  },
  {
   "cell_type": "markdown",
   "metadata": {},
   "source": [
    "# MLAnalysis"
   ]
  },
  {
   "cell_type": "markdown",
   "metadata": {},
   "source": [
    "## [ML-1] NEIGHBORHOOD INCOME PREDICTOR\n",
    "\n",
    "In this ML model, we developed a model that predicts income level based on __crimes__ and __socioeconomic factors__. __Neighborhood income levels__ are subdivided into five classes: (a) very high income (top 20%), (b) high income (upper 20%), (c) middle income (mid 20%), (d) low income (lower 20%), and (e) very low income  (bottom 20%) neighborhoods.\n",
    "\n",
    "- __ENCODING, LABELING AND DATA SPLITTING__<br>\n",
    "In this section, our group encoded the values on PCI (per capita income) metric into bins of income levels. Each bin corresponds to an income bracket. The rest of the columns were selected to be the features. Moreover, we used these data to split it into training and testing datasets.\n",
    "\n",
    "- __DATA TRAINING AND PREDICTING__<br>\n",
    "In this segment of ML analysis, we used a classifier to train and predict testing and training datasets, and report performance based on a number of metrics. To get an accurate performance scores, the team aggregated the results on training and getting prediction on a classifier five times.\n",
    "\n",
    "- __EVALUATING PERFORMANCE__<br>\n",
    "Based on the following metrics: (a) training time, (b) prediction time, (c) accuracy score for test & train datasets, and (d) F1 score for test & train data, __Random Forest Classifier__ looks viable as it scored the highest in accuracy and F1 score metrics, in which it gives the most accurate and precise prediction among the other three classifiers such as KNeighbors, Decision Tree, and Gaussian Naive-Bayes.\n",
    "- __FEATURE IMPORTANCE__<br>\n",
    "The team also take into account the features' importance to the label. Socioeconomic indicator __PAWHS__ (Percent Aged 25+ without High School Diploma) seem to be the most influential factor contributing to a neighborhood's income level, followed by PHBP (Percent Households Below Poverty), and PAUN (Percent Aged 16+ Unemployed).\n",
    "\n",
    "- __HYPERPARAMETER TUNING__<br>\n",
    "After finding the best classifier for our datasets, the team tried to optimize the performance of the Random Forest Classifier by finding the right configuration. Using GridSearchCV, we were able to find the best classifier model parameters.\n",
    "    \n",
    "- __USING PREDICTION MODEL__<br>\n",
    "In order to predict the label, the user must give inputs in the following order:\n",
    " * __PHC__ - Percent of Housing Crowded\n",
    " * __PHBP__ - Percent Households Below Poverty\n",
    " * __PAUN__ - Percent Aged 16+ Unemployed\n",
    " * __PAWHS__ - Percent Aged 25+ without High School Diploma\n",
    " * __PAU18__ - Percent Aged Under 18 or Over 64\n",
    " * __PCC__ - Crime Rate\n",
    "    \n",
    "For full ML analysis, visit https://github.com/edgeslab/CS418-Project/blob/master/IncomeLevelPredictor.ipynb"
   ]
  },
  {
   "cell_type": "code",
   "execution_count": 12,
   "metadata": {},
   "outputs": [
    {
     "name": "stdout",
     "output_type": "stream",
     "text": [
      "Community 1 is predicted to be in the income level of MID 20%.\n",
      "Community 2 is predicted to be in the income level of LOWER 20%.\n",
      "Community 3 is predicted to be in the income level of TOP 20%.\n"
     ]
    }
   ],
   "source": [
    "labels = ['TOP 20%', 'UPPER 20%', 'MID 20%', 'LOWER 20%', 'BOTTOM 20%']\n",
    "\n",
    "data = [ [30, 20, 30, 30, 30, 6000],   # Community 1\n",
    "         [20, 20, 25, 25, 35, 10000],  # Community 2\n",
    "         [15, 12, 9, 5, 44, 100]       # Community 3\n",
    "       ]\n",
    "\n",
    "for community, income_level in enumerate(new_clf.predict(data)):\n",
    "   print( \"Community {} is predicted to be in the income level of {}.\".format(community+1, labels[income_level]) )"
   ]
  },
  {
   "cell_type": "markdown",
   "metadata": {},
   "source": [
    "## [ML-2] DECISION TREE REGRESSION\n",
    "\n",
    "We are using the Chicago Socioeconomic Dataset to try and predict Per Capita Income (in US DOLLARS) in the Chiago Neighborhoods for each community area number based upon % of Housing Crowded, % Households below poverty, % aged 16+ unemployed, % Aged 25+ without highschool diploma,\t% aged under 18 OR over 64. The two graphs below show the Visualization of the machine learning model built using Decision Tree Regression. It is pretty close to actual values, if you see closely. In short, this model is taking in to account all the socioeconmic factors and spitting out the values for per capita income which it believes should go with that specific neighborhood based on other socioeconomic data and then we can compare it to the actual values to see what the difference is and which neighborhoods have more than required per capita income or which neighborhoods are poorer than they should have been. This model is showing that some neigborhoods have more per capita income than what was expected and many have lower than what was expected. Thus, It is directly related to our hypothesis of economic polarization in Chicago.\n"
   ]
  },
  {
   "cell_type": "markdown",
   "metadata": {},
   "source": [
    "- __PREPROCESSING AND DESCRIBING THE DATA__<br>\n",
    "After data cleaning and making an exploratory data analysis, the team looked into different socioeconomic factors that contributes to a community's per capita income.\n",
    "- __DATA TRAINING__<br>\n",
    "The team decided to split the dataset to train 80% and to test 20% of it. It is showing the comparison between the predicted data from the trained data set and we can compare it to the actual to see the difference\n",
    "- __MODEL STATISTICS__<br>\n",
    "The mean absolute error for our algorithm is 3955.5, which is less than 10 percent of the mean of all the values in the 'Per Capita Income' column. This means that our algorithm did a fine prediction job."
   ]
  },
  {
   "cell_type": "code",
   "execution_count": 4,
   "metadata": {},
   "outputs": [
    {
     "name": "stdout",
     "output_type": "stream",
     "text": [
      "Mean Absolute Error: 4014.0625\n",
      "Mean Squared Error: 129813770.4375\n",
      "Root Mean Squared Error: 11393.584617560007\n"
     ]
    }
   ],
   "source": [
    "from sklearn import metrics  \n",
    "print('Mean Absolute Error:', metrics.mean_absolute_error(y_test, y_pred))  \n",
    "print('Mean Squared Error:', metrics.mean_squared_error(y_test, y_pred))  \n",
    "print('Root Mean Squared Error:', np.sqrt(metrics.mean_squared_error(y_test, y_pred)))"
   ]
  },
  {
   "cell_type": "markdown",
   "metadata": {},
   "source": [
    "- __VISUALIZE DECISION TREE REGRESSION__<br>\n",
    "The chart below portrays how the actual values fare with the predicted values using the Decision Tree Regression classifier."
   ]
  },
  {
   "cell_type": "code",
   "execution_count": 15,
   "metadata": {},
   "outputs": [
    {
     "data": {
      "text/plain": [
       "Text(0, 0.5, 'Per Capita Income')"
      ]
     },
     "execution_count": 15,
     "metadata": {},
     "output_type": "execute_result"
    },
    {
     "data": {
      "image/png": "[encoded data removed]",
      "text/plain": [
       "<Figure size 720x360 with 1 Axes>"
      ]
     },
     "metadata": {
      "needs_background": "light"
     },
     "output_type": "display_data"
    }
   ],
   "source": [
    "ax = df[['Actual','Predicted']].plot(kind='bar', title =\"Actual Income Vs Predicted Income\", figsize=(10, 5), legend=True, fontsize=12)\n",
    "ax.set_xlabel(\"Community Area Number\", fontsize=12)\n",
    "ax.set_ylabel(\"Per Capita Income\", fontsize=12)"
   ]
  },
  {
   "cell_type": "markdown",
   "metadata": {},
   "source": [
    "# Visualization\n",
    "## [VIZ-1] Socioeconomic Metrics of different neighborhood income classes in Chicago\n",
    "The visualization below portrays the various socioeconomic metrics which have a significant impact on crime rate. The visualizations is based on neighborhood's average income. Dark blue bars represent neighborhoods who have very high income (top 20% in income levels). Yellow bars represent the middle class neighborhoods. While, the red bars show the bottom 20% income neighborhoods. The visualization below clearly shows neighborhoods with very low income have highest crime rates, poverty level, unemployment rate, and high school dropout rates."
   ]
  },
  {
   "cell_type": "markdown",
   "metadata": {},
   "source": [
    "<img src=\"img/Bargraph.png\" style=\"width: 800px;\"/>"
   ]
  },
  {
   "cell_type": "markdown",
   "metadata": {},
   "source": [
    "## [VIZ-2] Per Capita Income vs Crime Count Visualization\n",
    "The visulization below proves that per Capita Income and crime rate are inversely related to one another. As the crime rate increases at a certain neighborhood, its income level drops down. The scatter plot graph brilliantly depicts the indirect correlation between the two variables. "
   ]
  },
  {
   "cell_type": "markdown",
   "metadata": {},
   "source": [
    "<img src=\"img/Scatterplot.png\" style=\"width: 400px;\"/>"
   ]
  },
  {
   "cell_type": "markdown",
   "metadata": {},
   "source": [
    "# Additional work\n",
    "\n",
    "## [VIZ-3] Unemployment Rate VS Crime Count\n",
    "The visualizations below are called __geospatial map__. We created an entire map of city of Chicago. The map on the left shows the unemployment rate percentages of all different Chicago community areas. Dark red areas represent where unemployment percentage is very high and dark blue color indicates where unemployment percentage is very low. Similarly on the right, the geospatial map shows crime counts per Chicago community area. Dark red areas represent neighborhoods with the most crime count and dark blue areas represent neighborhoods with the least crime count. After doing a thorough side-by-side anlaysis on the two visualizations below, we found that areas where unemployment rate is high, have higher crime counts and vice-versa. Thus, the visualization shows a direct correlation between unemployment rate and crime count in city of Chicago. "
   ]
  },
  {
   "cell_type": "markdown",
   "metadata": {},
   "source": [
    "![title](img/viz.png)"
   ]
  },
  {
   "cell_type": "markdown",
   "metadata": {},
   "source": [
    "# Results \n",
    "After doing a thorough data analysis, many significant insights were found. We have found that middle class is actually disappearing in the City of Chicago as per our hypothesis. Using Pew research guidleines on poverty levels, Per Capita income of majority of neighborhoods show that majority of the neighborhoods are below poverty level. Also another conclusion we can make is that after looking at the per capita income visualization per community from above, we have noted that communities with low income have higher crime counts. Thus, we believe that per capita income has major effects on crime rate in chicago This is a very imporatant insight in this project. Another insight, we have understood is that not having a highschool diploma also has impacts on crime counts. After closely analyzing the \"Highschool Education in Each Community\" visualization(part of progress report) and comparing it against \"Crime count per Chicago Community Area\" visualization, we analyzed that communities with higher high school dropouts have higher crime counts. Its a direct relationship. This was another very interesting insight. Another important insight we found was that areas where unemployment rate was high, had higher crime percantages and vice-versa. Unemployment Rate and Crime Rate are directly correlated.  These are a few concrete result we can show based on our data analysis and viusalizations above, we can conclude the following:\n",
    "As per capita income goes up the crime count decreases.(per community). As unemployment rate goes up the crime count increases.(per community). As high drop out rate increases, the crime count increases.(per community). Also, there are some neighborhoods which are way richer than expectations and alot more neighborhoods which are way pooerer than expectation. This can be seen from the Machine Learning model called 'Decision Tree using regression' above. \n",
    "\n",
    "\n"
   ]
  }
 ],
 "metadata": {
  "kernelspec": {
   "display_name": "Python 3",
   "language": "python",
   "name": "python3"
  },
  "language_info": {
   "codemirror_mode": {
    "name": "ipython",
    "version": 3
   },
   "file_extension": ".py",
   "mimetype": "text/x-python",
   "name": "python",
   "nbconvert_exporter": "python",
   "pygments_lexer": "ipython3",
   "version": "3.7.1"
  }
 },
 "nbformat": 4,
 "nbformat_minor": 2
}
