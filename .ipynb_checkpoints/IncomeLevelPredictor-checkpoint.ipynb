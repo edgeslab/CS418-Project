{
 "cells": [
  {
   "cell_type": "markdown",
   "metadata": {},
   "source": [
    "## Income Level Predictor\n",
    "\n",
    "ML analysis by Jason Yeoh\n",
    "\n",
    "This Machine Learning model predicts income level based on __crimes__ and __socioeconomic factors__.\n",
    "\n",
    "__Income levels__ are subdivided into five classes namely:\n",
    "1. Top 20%\n",
    "2. Upper 20%\n",
    "3. Mid 20%\n",
    "4. Lower 20%\n",
    "5. Bottom 20%"
   ]
  },
  {
   "cell_type": "code",
   "execution_count": 165,
   "metadata": {},
   "outputs": [],
   "source": [
    "# Import libraries\n",
    "import pandas as pd\n",
    "import numpy as np\n",
    "import seaborn as sns\n",
    "import geopandas as gpd\n",
    "import visuals as vs\n",
    "import time\n",
    "%matplotlib inline\n",
    "import matplotlib.pyplot as plt\n",
    "from sklearn.linear_model import LinearRegression\n",
    "from sklearn.model_selection import train_test_split\n",
    "from sklearn.metrics import accuracy_score, fbeta_score, make_scorer\n",
    "from sklearn.model_selection import GridSearchCV\n",
    "from sklearn.naive_bayes import GaussianNB\n",
    "from sklearn.tree import DecisionTreeClassifier\n",
    "from sklearn.ensemble import RandomForestClassifier"
   ]
  },
  {
   "cell_type": "markdown",
   "metadata": {},
   "source": [
    "### SOCIOECONOMIC INDICATORS\n",
    "With this dataset, our team removed outliers"
   ]
  },
  {
   "cell_type": "code",
   "execution_count": 9,
   "metadata": {},
   "outputs": [],
   "source": [
    "socioecon = pd.read_csv(\"ChicagoSocioecon.csv\")\n",
    "socioecon['Community Area Number'] = pd.to_numeric( socioecon['Community Area Number'], downcast='signed')\n",
    "socioecon['Community Area Number'] = socioecon['Community Area Number'].fillna(0.0).apply(np.int64)\n",
    "socioecon['HARDSHIP INDEX'] = socioecon['HARDSHIP INDEX'].fillna(0.0).apply(np.int64)\n",
    "socioecon = socioecon.set_index('Community Area Number')\n",
    "socioecon = socioecon.dropna()"
   ]
  },
  {
   "cell_type": "markdown",
   "metadata": {},
   "source": [
    "### CRIMES"
   ]
  },
  {
   "cell_type": "code",
   "execution_count": 10,
   "metadata": {},
   "outputs": [],
   "source": [
    "crimes = pd.read_csv(\"dataFiltered.csv\")\n",
    "crimes['Year'] = crimes['Year'].fillna(0.0).apply(np.int64)\n",
    "crime = crimes.groupby('Community Area').count()['ID'].reset_index(name=\"Crime Count\")"
   ]
  },
  {
   "cell_type": "markdown",
   "metadata": {},
   "source": [
    "### DATA PREPROCESSING\n",
    "\n",
    "The team joined crimes and socioeconomic tables on the key __Community Area Number__. In addition, we used abbreviations on various socioeconomic classes to make the table easily referenced.\n",
    "\n",
    "Below is the list of abbreviations:\n",
    "1. __NAME__ - Community Area Name\n",
    "2. __PHC__ - Percent of Housing Crowded\n",
    "3. __PHBP__ - Percent Households Below Poverty\n",
    "4. __PAUN__ - Percent Aged 16+ Unemployed\n",
    "5. __PAWHS__ - Percent Aged 25+ without High School Diploma\n",
    "6. __PAU18__ - Percent Aged Under 18 or Over 64\n",
    "7. __PCI__ - Per Capita Income\n",
    "8. __HI__ - Hardship Index\n",
    "9. __CC__ - Crime Count"
   ]
  },
  {
   "cell_type": "code",
   "execution_count": 240,
   "metadata": {},
   "outputs": [
    {
     "data": {
      "text/html": [
       "<div>\n",
       "<style scoped>\n",
       "    .dataframe tbody tr th:only-of-type {\n",
       "        vertical-align: middle;\n",
       "    }\n",
       "\n",
       "    .dataframe tbody tr th {\n",
       "        vertical-align: top;\n",
       "    }\n",
       "\n",
       "    .dataframe thead th {\n",
       "        text-align: right;\n",
       "    }\n",
       "</style>\n",
       "<table border=\"1\" class=\"dataframe\">\n",
       "  <thead>\n",
       "    <tr style=\"text-align: right;\">\n",
       "      <th></th>\n",
       "      <th>NAME</th>\n",
       "      <th>PHC</th>\n",
       "      <th>PHBP</th>\n",
       "      <th>PAUN</th>\n",
       "      <th>PAWHS</th>\n",
       "      <th>PAU18</th>\n",
       "      <th>PCI</th>\n",
       "      <th>HI</th>\n",
       "      <th>CC</th>\n",
       "    </tr>\n",
       "    <tr>\n",
       "      <th>Community Area Number</th>\n",
       "      <th></th>\n",
       "      <th></th>\n",
       "      <th></th>\n",
       "      <th></th>\n",
       "      <th></th>\n",
       "      <th></th>\n",
       "      <th></th>\n",
       "      <th></th>\n",
       "      <th></th>\n",
       "    </tr>\n",
       "  </thead>\n",
       "  <tbody>\n",
       "    <tr>\n",
       "      <th>1</th>\n",
       "      <td>Rogers Park</td>\n",
       "      <td>7.7</td>\n",
       "      <td>23.6</td>\n",
       "      <td>8.7</td>\n",
       "      <td>18.2</td>\n",
       "      <td>27.5</td>\n",
       "      <td>23939</td>\n",
       "      <td>39</td>\n",
       "      <td>7748</td>\n",
       "    </tr>\n",
       "    <tr>\n",
       "      <th>2</th>\n",
       "      <td>West Ridge</td>\n",
       "      <td>7.8</td>\n",
       "      <td>17.2</td>\n",
       "      <td>8.8</td>\n",
       "      <td>20.8</td>\n",
       "      <td>38.5</td>\n",
       "      <td>23040</td>\n",
       "      <td>46</td>\n",
       "      <td>6722</td>\n",
       "    </tr>\n",
       "    <tr>\n",
       "      <th>3</th>\n",
       "      <td>Uptown</td>\n",
       "      <td>3.8</td>\n",
       "      <td>24.0</td>\n",
       "      <td>8.9</td>\n",
       "      <td>11.8</td>\n",
       "      <td>22.2</td>\n",
       "      <td>35787</td>\n",
       "      <td>20</td>\n",
       "      <td>7271</td>\n",
       "    </tr>\n",
       "    <tr>\n",
       "      <th>4</th>\n",
       "      <td>Lincoln Square</td>\n",
       "      <td>3.4</td>\n",
       "      <td>10.9</td>\n",
       "      <td>8.2</td>\n",
       "      <td>13.4</td>\n",
       "      <td>25.5</td>\n",
       "      <td>37524</td>\n",
       "      <td>17</td>\n",
       "      <td>3537</td>\n",
       "    </tr>\n",
       "    <tr>\n",
       "      <th>5</th>\n",
       "      <td>North Center</td>\n",
       "      <td>0.3</td>\n",
       "      <td>7.5</td>\n",
       "      <td>5.2</td>\n",
       "      <td>4.5</td>\n",
       "      <td>26.2</td>\n",
       "      <td>57123</td>\n",
       "      <td>6</td>\n",
       "      <td>2945</td>\n",
       "    </tr>\n",
       "  </tbody>\n",
       "</table>\n",
       "</div>"
      ],
      "text/plain": [
       "                                 NAME  PHC  PHBP  PAUN  PAWHS  PAU18    PCI  \\\n",
       "Community Area Number                                                         \n",
       "1                         Rogers Park  7.7  23.6   8.7   18.2   27.5  23939   \n",
       "2                          West Ridge  7.8  17.2   8.8   20.8   38.5  23040   \n",
       "3                              Uptown  3.8  24.0   8.9   11.8   22.2  35787   \n",
       "4                      Lincoln Square  3.4  10.9   8.2   13.4   25.5  37524   \n",
       "5                        North Center  0.3   7.5   5.2    4.5   26.2  57123   \n",
       "\n",
       "                       HI    CC  \n",
       "Community Area Number            \n",
       "1                      39  7748  \n",
       "2                      46  6722  \n",
       "3                      20  7271  \n",
       "4                      17  3537  \n",
       "5                       6  2945  "
      ]
     },
     "execution_count": 240,
     "metadata": {},
     "output_type": "execute_result"
    }
   ],
   "source": [
    "crime_socioecon = socioecon.join(crime, on='Community Area Number')\n",
    "crime_socioecon = crime_socioecon.drop(['Community Area'], axis=1)\n",
    "crime_socioecon.columns = ['NAME', 'PHC', 'PHBP', 'PAUN', 'PAWHS', 'PAU18', 'PCI', 'HI', 'CC']\n",
    "crime_socioecon.head()"
   ]
  },
  {
   "cell_type": "markdown",
   "metadata": {},
   "source": [
    "### ENCODING, LABELING AND DATA SPLITTING\n",
    "\n",
    "In this section, our group encoded the values on __PCI__ (per capita income) metric into bins of income levels. Each bin corresponds to an income bracket. The rest of the columns were selected to be the features.\n",
    "\n",
    "Moreover, we used these data to split it into training and testing datasets."
   ]
  },
  {
   "cell_type": "code",
   "execution_count": 149,
   "metadata": {},
   "outputs": [
    {
     "name": "stdout",
     "output_type": "stream",
     "text": [
      "Training set has 62 samples.\n",
      "Testing set has 16 samples.\n"
     ]
    }
   ],
   "source": [
    "# Encode income levels\n",
    "def encodeLabels(y):\n",
    "    if y >= 33982.6:   return 0  #TOP 20%\n",
    "    elif y >= 24018.4: return 1  #UPPER MID 20%\n",
    "    elif y >= 18527.4: return 2  #MID 20%\n",
    "    elif y >= 14846.6: return 3  #LOWER MID 20%\n",
    "    else: return 4 #BOTTOM 20%\n",
    "\n",
    "feature_cols = ['PHC', 'PHBP', 'PAUN', 'PAWHS', 'PAU18', 'CC']\n",
    "numerical = ['PHC', 'PHBP', 'PAUN', 'PAWHS', 'PAU18', 'PCI', 'CC']\n",
    "\n",
    "X_raw = crime_socioecon[feature_cols]\n",
    "y = crime_socioecon['PCI']\n",
    "y_raw = y.apply(encodeLabels)\n",
    "\n",
    "X_train, X_test, y_train, y_test = train_test_split(X_raw, y_raw, test_size=0.2)\n",
    "\n",
    "print (\"Training set has {} samples.\".format(X_train.shape[0]))\n",
    "print (\"Testing set has {} samples.\".format(X_test.shape[0]))"
   ]
  },
  {
   "cell_type": "markdown",
   "metadata": {},
   "source": [
    "### DATA TRAINING AND PREDICTING\n",
    "In this segment of ML analysis, we used a classifier to train and predict testing and training datasets, and report performance based on a number of metrics. To get an accurate performance scores, the team aggregated the results on training and getting prediction on a classifier five times."
   ]
  },
  {
   "cell_type": "code",
   "execution_count": 239,
   "metadata": {},
   "outputs": [],
   "source": [
    "# Train and predict a classifier.\n",
    "def train_and_predict(clf, X_train, X_test, y_train, y_test):\n",
    "    start = time.time()\n",
    "    clf = clf.fit(X_train, y_train)\n",
    "    end = time.time()\n",
    "    clf_time = end - start\n",
    "\n",
    "    start = time.time()\n",
    "    predictions_train = clf.predict(X_train)\n",
    "    predictions_test = clf.predict(X_test)\n",
    "    end = time.time() \n",
    "    pred_time = end - start\n",
    "    \n",
    "    accu_train = accuracy_score(y_train, predictions_train)\n",
    "    accu_test = accuracy_score(y_test, predictions_test)\n",
    "    \n",
    "    f_train = fbeta_score(y_train, predictions_train, beta=0.5, average='micro')\n",
    "    f_test = fbeta_score(y_test, predictions_test, beta=0.5, average='micro')\n",
    "    \n",
    "    return (clf_time, pred_time, accu_train, accu_test, f_train, f_test)\n",
    "    \n",
    "# Train and predict a classifier five times.\n",
    "def train_and_predict_5_times(clf, X_train, X_test, y_train, y_test):\n",
    "    clf_time = []\n",
    "    pred_time = []\n",
    "    accu_train = [] \n",
    "    accu_test = []\n",
    "    f_train = []\n",
    "    f_test = []\n",
    "    \n",
    "    for tries in range(0, 5):\n",
    "        (a,b,c,d,e,f) = train_and_predict(clf, X_train, X_test, y_train, y_test)\n",
    "        clf_time.append(a)\n",
    "        pred_time.append(b)\n",
    "        accu_train.append(c)\n",
    "        accu_test.append(d)\n",
    "        f_train.append(e) \n",
    "        f_test.append(f)\n",
    "        \n",
    "    # Display results\n",
    "    print(\"[ {} ]\".format(clf.__class__.__name__))\n",
    "    print(\" TRAINING TIME:         {}\".format(np.mean(clf_time)))\n",
    "    print(\" PREDICTION TIME:       {}\".format(np.mean(pred_time)))\n",
    "    print(\" ACCURACY ON TRAIN SET: {}\".format(np.mean(accu_train)))\n",
    "    print(\" ACCURACY ON TEST SET:  {}\".format(np.mean(accu_test)))\n",
    "    print(\" F1-SCORE ON TRAIN SET: {}\".format(np.mean(f_train)))\n",
    "    print(\" F1-SCORE ON TEST SET:  {}\".format(np.mean(f_test)))\n",
    "    print(\"\\n\")"
   ]
  },
  {
   "cell_type": "markdown",
   "metadata": {},
   "source": [
    "### EVALUATING PERFORMANCE \n",
    "\n",
    "Based on these metrics:\n",
    "- Training time\n",
    "- Prediction time\n",
    "- Accuracy score for test & train\n",
    "- F1 score for test & train\n",
    "\n",
    "Random Forest Classifier looks viable as it scored the highest in accuracy and F1 score metrics, in which it gives the most accurate and precise prediction among the other three classifiers such as KNeighbors, Decision Tree, and Gaussian Naive-Bayes. "
   ]
  },
  {
   "cell_type": "code",
   "execution_count": 231,
   "metadata": {},
   "outputs": [
    {
     "name": "stdout",
     "output_type": "stream",
     "text": [
      "[ KNeighborsClassifier ]\n",
      " CLF TIME:              0.001154327392578125\n",
      " PREDICTION TIME:       0.004290914535522461\n",
      " ACCURACY ON TRAIN SET: 0.4516129032258064\n",
      " ACCURACY ON TEST SET:  0.125\n",
      " F1-SCORE ON TRAIN SET: 0.4516129032258064\n",
      " F1-SCORE ON TEST SET:  0.125\n",
      "\n",
      "\n",
      "[ DecisionTreeClassifier ]\n",
      " CLF TIME:              0.0015454292297363281\n",
      " PREDICTION TIME:       0.0018198490142822266\n",
      " ACCURACY ON TRAIN SET: 1.0\n",
      " ACCURACY ON TEST SET:  0.625\n",
      " F1-SCORE ON TRAIN SET: 1.0\n",
      " F1-SCORE ON TEST SET:  0.625\n",
      "\n",
      "\n",
      "[ GaussianNB ]\n",
      " CLF TIME:              0.00230560302734375\n",
      " PREDICTION TIME:       0.0020112991333007812\n",
      " ACCURACY ON TRAIN SET: 0.7903225806451613\n",
      " ACCURACY ON TEST SET:  0.6875\n",
      " F1-SCORE ON TRAIN SET: 0.7903225806451613\n",
      " F1-SCORE ON TEST SET:  0.6875\n",
      "\n",
      "\n",
      "[ RandomForestClassifier ]\n",
      " CLF TIME:              0.008571100234985352\n",
      " PREDICTION TIME:       0.003151607513427734\n",
      " ACCURACY ON TRAIN SET: 0.967741935483871\n",
      " ACCURACY ON TEST SET:  0.7375\n",
      " F1-SCORE ON TRAIN SET: 0.967741935483871\n",
      " F1-SCORE ON TEST SET:  0.7375\n",
      "\n",
      "\n"
     ]
    }
   ],
   "source": [
    "from sklearn.neighbors import KNeighborsClassifier\n",
    "from sklearn.tree import DecisionTreeClassifier\n",
    "from sklearn.naive_bayes import GaussianNB\n",
    "from sklearn.ensemble import RandomForestClassifier\n",
    "\n",
    "clf_A = KNeighborsClassifier()\n",
    "clf_B = DecisionTreeClassifier()\n",
    "clf_C = GaussianNB()\n",
    "clf_D = RandomForestClassifier()\n",
    "\n",
    "scores = []\n",
    "\n",
    "for clf in [clf_A, clf_B, clf_C, clf_D]:\n",
    "    train_and_predict_5_times(clf, X_train, X_test, y_train, y_test)"
   ]
  },
  {
   "cell_type": "markdown",
   "metadata": {},
   "source": [
    "### FEATURE IMPORTANCE\n",
    "\n",
    "As you can see from the weights listed below, a socioeconomic indicator __PAWHS__ (Percent Aged 25+ without High School Diploma) seem to be the most influential factor contributing to a neighborhood's income level, followed by __PHBP__ (Percent Households Below Poverty), and __PAUN__ (Percent Aged 16+ Unemployed)."
   ]
  },
  {
   "cell_type": "code",
   "execution_count": 238,
   "metadata": {},
   "outputs": [
    {
     "data": {
      "text/html": [
       "<div>\n",
       "<style scoped>\n",
       "    .dataframe tbody tr th:only-of-type {\n",
       "        vertical-align: middle;\n",
       "    }\n",
       "\n",
       "    .dataframe tbody tr th {\n",
       "        vertical-align: top;\n",
       "    }\n",
       "\n",
       "    .dataframe thead th {\n",
       "        text-align: right;\n",
       "    }\n",
       "</style>\n",
       "<table border=\"1\" class=\"dataframe\">\n",
       "  <thead>\n",
       "    <tr style=\"text-align: right;\">\n",
       "      <th></th>\n",
       "      <th>features</th>\n",
       "      <th>weight</th>\n",
       "    </tr>\n",
       "  </thead>\n",
       "  <tbody>\n",
       "    <tr>\n",
       "      <th>3</th>\n",
       "      <td>PAWHS</td>\n",
       "      <td>0.281223</td>\n",
       "    </tr>\n",
       "    <tr>\n",
       "      <th>1</th>\n",
       "      <td>PHBP</td>\n",
       "      <td>0.237257</td>\n",
       "    </tr>\n",
       "    <tr>\n",
       "      <th>2</th>\n",
       "      <td>PAUN</td>\n",
       "      <td>0.193670</td>\n",
       "    </tr>\n",
       "    <tr>\n",
       "      <th>4</th>\n",
       "      <td>PAU18</td>\n",
       "      <td>0.140166</td>\n",
       "    </tr>\n",
       "    <tr>\n",
       "      <th>5</th>\n",
       "      <td>CC</td>\n",
       "      <td>0.075423</td>\n",
       "    </tr>\n",
       "    <tr>\n",
       "      <th>0</th>\n",
       "      <td>PHC</td>\n",
       "      <td>0.072260</td>\n",
       "    </tr>\n",
       "  </tbody>\n",
       "</table>\n",
       "</div>"
      ],
      "text/plain": [
       "  features    weight\n",
       "3    PAWHS  0.281223\n",
       "1     PHBP  0.237257\n",
       "2     PAUN  0.193670\n",
       "4    PAU18  0.140166\n",
       "5       CC  0.075423\n",
       "0      PHC  0.072260"
      ]
     },
     "execution_count": 238,
     "metadata": {},
     "output_type": "execute_result"
    }
   ],
   "source": [
    "model = RandomForestClassifier().fit(X_train, y_train)\n",
    "feat_imp = pd.DataFrame({'features': X_train.columns, 'weight': model.feature_importances_})\n",
    "feat_imp.sort_values(by='weight', ascending=False)"
   ]
  },
  {
   "cell_type": "markdown",
   "metadata": {},
   "source": [
    "### HYPERPARAMETER TUNING\n",
    "After finding the best classifier for our datasets, the team tried to optimize the performance of the Random Forest Classifier by finding the right configuration. Using GridSearchCV, we were able to find the best classifier model parameters."
   ]
  },
  {
   "cell_type": "code",
   "execution_count": 235,
   "metadata": {},
   "outputs": [
    {
     "name": "stdout",
     "output_type": "stream",
     "text": [
      "[OLD MODEL]: \n",
      " ACCURACY SCORE: 0.6875 \n",
      " F1-SCORE: 0.6875\n",
      "[NEW MODEL]: \n",
      " ACCURACY SCORE: 0.8125 \n",
      " F1-SCORE: 0.8125\n"
     ]
    }
   ],
   "source": [
    "def reportResults(pred, prediction):\n",
    "    accu_score = accuracy_score(y_test, prediction)\n",
    "    f_score = fbeta_score(y_test, prediction, beta=0.5, average='micro')\n",
    "    \n",
    "    print (\"{}: \\n ACCURACY SCORE: {} \\n F1-SCORE: {}\".format(pred, accu_score, f_score))\n",
    "\n",
    "clf = RandomForestClassifier()\n",
    "\n",
    "score = make_scorer(fbeta_score, beta=0.5, average=\"micro\")\n",
    "grid = GridSearchCV(clf, {'n_estimators': [5, 10, 15], 'max_features': [4, 5, 6, None]}, scoring=score)\n",
    "grid = grid.fit(X_train, y_train)\n",
    "new_clf = grid.best_estimator_\n",
    "\n",
    "pred = (clf.fit(X_train, y_train)).predict(X_test)\n",
    "new_pred = new_clf.predict(X_test)\n",
    "\n",
    "reportResults(\"[OLD MODEL]\", pred)\n",
    "reportResults(\"[NEW MODEL]\", new_pred)"
   ]
  },
  {
   "cell_type": "markdown",
   "metadata": {},
   "source": [
    "### USING THE PREDICTING MODEL\n",
    "\n",
    "Give inputs in the following order:\n",
    "1. __PHC__ - Percent of Housing Crowded\n",
    "2. __PHBP__ - Percent Households Below Poverty\n",
    "3. __PAUN__ - Percent Aged 16+ Unemployed\n",
    "4. __PAWHS__ - Percent Aged 25+ without High School Diploma\n",
    "5. __PAU18__ - Percent Aged Under 18 or Over 64\n",
    "6. __CC__ - Crime Count"
   ]
  },
  {
   "cell_type": "code",
   "execution_count": 336,
   "metadata": {},
   "outputs": [
    {
     "name": "stdout",
     "output_type": "stream",
     "text": [
      "Community 0 is predicted to be in the income level of TOP 20%.\n",
      "Community 1 is predicted to be in the income level of UPPER 20%.\n",
      "Community 2 is predicted to be in the income level of MID 20%.\n"
     ]
    }
   ],
   "source": [
    "labels = ['TOP 20%', 'UPPER 20%', 'MID 20%', 'LOWER 20%', 'BOTTOM 20%']\n",
    "\n",
    "data = [ [30, 20, 30, 30, 30, 6000],   # Community 1\n",
    "         [20, 20, 25, 25, 35, 10000],  # Community 2\n",
    "         [15, 12, 9, 5, 44, 100]       # Community 3\n",
    "       ]\n",
    "\n",
    "for community, income_level in enumerate(new_clf.predict(data)):\n",
    "   print( \"Community {} is predicted to be in the income level of {}.\".format(community, labels[community]) )"
   ]
  }
 ],
 "metadata": {
  "kernelspec": {
   "display_name": "Python 3",
   "language": "python",
   "name": "python3"
  },
  "language_info": {
   "codemirror_mode": {
    "name": "ipython",
    "version": 3
   },
   "file_extension": ".py",
   "mimetype": "text/x-python",
   "name": "python",
   "nbconvert_exporter": "python",
   "pygments_lexer": "ipython3",
   "version": "3.7.3"
  }
 },
 "nbformat": 4,
 "nbformat_minor": 2
}
