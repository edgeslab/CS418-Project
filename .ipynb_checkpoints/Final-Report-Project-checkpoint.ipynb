{
 "cells": [
  {
   "cell_type": "markdown",
   "metadata": {},
   "source": [
    "# CS418 Data Pirates Final Report\n",
    "1.Arsalan Babar 2.Imran Babar 3.Vraj Patel 4.Dilip Vemuri 5.Jason Yeoh\n",
    "\n",
    "GitHub Repo for this notebook:\n",
    "https://github.com/edgeslab/CS418-Project/blob/master/418_ProjectV3.ipynb"
   ]
  },
  {
   "cell_type": "markdown",
   "metadata": {},
   "source": [
    "# DATA\n",
    "\n",
    "## Data sets used: \n",
    "\n",
    "### Crimes in Chicago Since 2001:\n",
    "Very large dataset. Required Cleaning. Only needed the data from the years 2008 to 2012. Fixed Structural Erros. Removed Unwanted Outliers. Wrote a python script for cleaning. <br>Python Script Filename(on github repo): datacleaning.py <br>Final Cleaned Data CSV Filename: DataFiltered.CSV\n",
    "\n",
    "### Socioeconomic Data Set:\n",
    "Not very large data set. Easy to utilize. Therefore, it did not require cleaning. Used the original csv file.<br>\n",
    "Filename(on github repo): ChicagoSocioecon.csv"
   ]
  },
  {
   "cell_type": "markdown",
   "metadata": {},
   "source": [
    "# ML/Stats\n",
    "Use at least two machine learning or statistical analysis techniques to analyze your data, explain what you did, and talk about the inferences you uncovered."
   ]
  },
  {
   "cell_type": "markdown",
   "metadata": {},
   "source": [
    "# Visualization: \n",
    "Provide at least two distinct visualizations of your data or final results. This means two different techniques. If you use bar charts to analyze one aspect of your data, while you may use bar charts again, the second use will not count as a distinct visualization."
   ]
  },
  {
   "cell_type": "markdown",
   "metadata": {},
   "source": [
    "# Additional work\n",
    "In addition to the requirements in the ML and visualization sections above, we would like to see at least one extra from either category. That means a total of five deliverables.\n"
   ]
  },
  {
   "cell_type": "markdown",
   "metadata": {},
   "source": [
    "# Results\n",
    "Fully explain and analyze the results from your data, i.e. the inferences or correlations you uncovered, the tools you built, or the visualizations you created.\n"
   ]
  },
  {
   "cell_type": "code",
   "execution_count": null,
   "metadata": {},
   "outputs": [],
   "source": []
  }
 ],
 "metadata": {
  "kernelspec": {
   "display_name": "Python 3",
   "language": "python",
   "name": "python3"
  },
  "language_info": {
   "codemirror_mode": {
    "name": "ipython",
    "version": 3
   },
   "file_extension": ".py",
   "mimetype": "text/x-python",
   "name": "python",
   "nbconvert_exporter": "python",
   "pygments_lexer": "ipython3",
   "version": "3.7.3"
  }
 },
 "nbformat": 4,
 "nbformat_minor": 2
}
