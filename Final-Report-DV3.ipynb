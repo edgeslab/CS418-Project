{
 "cells": [
  {
   "cell_type": "markdown",
   "metadata": {},
   "source": [
    "# CS418 Data Pirates Final Report\n",
    "1.Arsalan Babar 2.Imran Babar 3.Vraj Patel 4.Dilip Vemuri 5.Jason Yeoh\n",
    "\n",
    "GitHub Repo for this notebook:\n",
    "https://github.com/edgeslab/CS418-Project/blob/master/418_ProjectV3.ipynb"
   ]
  },
  {
   "cell_type": "markdown",
   "metadata": {},
   "source": [
    "# DATA\n",
    "\n",
    "## Data sets used: \n",
    "\n",
    "### Crimes in Chicago Since 2001:\n",
    "Very large dataset. Required Cleaning. Only needed the data from the years 2008 to 2012. Fixed Structural Erros. Removed Unwanted Outliers. Wrote a python script for cleaning. <br>Python Script Filename(on github repo): datacleaning.py <br>Final Cleaned Data CSV Filename: DataFiltered.CSV\n",
    "\n",
    "### Socioeconomic Data Set:\n",
    "Not very large data set. Easy to utilize. Therefore, it did not require cleaning. Used the original csv file.<br>\n",
    "Filename(on github repo): ChicagoSocioecon.csv"
   ]
  },
  {
   "cell_type": "markdown",
   "metadata": {},
   "source": [
    "# ML/Stats\n",
    "Use at least two machine learning or statistical analysis techniques to analyze your data, explain what you did, and talk about the inferences you uncovered."
   ]
  },
  {
   "cell_type": "markdown",
   "metadata": {},
   "source": [
    "## Machine Learning Analysis Using DECISION TREE REGRESSION\n",
    "We are using the Chicago Socioeconomic Dataset to try and predict Per Capita Income (in US DOLLARS) in the Chiago Neighborhoods for each community area number based upon % of Housing Crowded, % Households below poverty, % aged 16+ unemployed, % Aged 25+ without highschool diploma,\t% aged under 18 OR over 64. The two graphs below show the Visualization of the machine learning model built using Decision Tree Regression. It is pretty close to actual values, if you see closely. In short, this model is taking in to account all the socioeconmic factors and spitting out the values for per capita income which it believes should go with that specific neighborhood based on other socioeconomic data and then we can compare it to the actual values to see what the difference is and which neighborhoods have more than required per capita income or which neighborhoods are poorer than they should have been. This model is showing that some neigborhoods have more per capita income than what was expected and many have lower than what was expected. Thus, It is directly related to our hypothesis of economic polarization in Chicago.\n"
   ]
  },
  {
   "cell_type": "code",
   "execution_count": 25,
   "metadata": {},
   "outputs": [
    {
     "data": {
      "text/html": [
       "<script>\n",
       "code_show=true; \n",
       "function code_toggle() {\n",
       " if (code_show){\n",
       " $('div.input').hide();\n",
       " } else {\n",
       " $('div.input').show();\n",
       " }\n",
       " code_show = !code_show\n",
       "} \n",
       "$( document ).ready(code_toggle);\n",
       "</script>\n",
       "<form action=\"javascript:code_toggle()\"><input type=\"submit\" value=\"Click here to toggle on/off the raw code.\"></form>"
      ],
      "text/plain": [
       "<IPython.core.display.HTML object>"
      ]
     },
     "execution_count": 25,
     "metadata": {},
     "output_type": "execute_result"
    }
   ],
   "source": [
    "from IPython.display import HTML\n",
    "\n",
    "HTML('''<script>\n",
    "code_show=true; \n",
    "function code_toggle() {\n",
    " if (code_show){\n",
    " $('div.input').hide();\n",
    " } else {\n",
    " $('div.input').show();\n",
    " }\n",
    " code_show = !code_show\n",
    "} \n",
    "$( document ).ready(code_toggle);\n",
    "</script>\n",
    "<form action=\"javascript:code_toggle()\"><input type=\"submit\" value=\"Click here to toggle on/off the raw code.\"></form>''')### PREPROCESSING AND DESCRIBING THE DATA"
   ]
  },
  {
   "cell_type": "code",
   "execution_count": 24,
   "metadata": {},
   "outputs": [
    {
     "data": {
      "text/html": [
       "<div>\n",
       "<style scoped>\n",
       "    .dataframe tbody tr th:only-of-type {\n",
       "        vertical-align: middle;\n",
       "    }\n",
       "\n",
       "    .dataframe tbody tr th {\n",
       "        vertical-align: top;\n",
       "    }\n",
       "\n",
       "    .dataframe thead th {\n",
       "        text-align: right;\n",
       "    }\n",
       "</style>\n",
       "<table border=\"1\" class=\"dataframe\">\n",
       "  <thead>\n",
       "    <tr style=\"text-align: right;\">\n",
       "      <th></th>\n",
       "      <th>Community Area Number</th>\n",
       "      <th>PERCENT OF HOUSING CROWDED</th>\n",
       "      <th>PERCENT HOUSEHOLDS BELOW POVERTY</th>\n",
       "      <th>PERCENT AGED 16+ UNEMPLOYED</th>\n",
       "      <th>PERCENT AGED 25+ WITHOUT HIGH SCHOOL DIPLOMA</th>\n",
       "      <th>PERCENT AGED UNDER 18 OR OVER 64</th>\n",
       "      <th>PER CAPITA INCOME</th>\n",
       "      <th>HARDSHIP INDEX</th>\n",
       "    </tr>\n",
       "  </thead>\n",
       "  <tbody>\n",
       "    <tr>\n",
       "      <th>count</th>\n",
       "      <td>77.000000</td>\n",
       "      <td>77.000000</td>\n",
       "      <td>77.000000</td>\n",
       "      <td>77.000000</td>\n",
       "      <td>77.000000</td>\n",
       "      <td>77.000000</td>\n",
       "      <td>77.000000</td>\n",
       "      <td>77.000000</td>\n",
       "    </tr>\n",
       "    <tr>\n",
       "      <th>mean</th>\n",
       "      <td>39.000000</td>\n",
       "      <td>4.923377</td>\n",
       "      <td>21.766234</td>\n",
       "      <td>15.372727</td>\n",
       "      <td>20.341558</td>\n",
       "      <td>35.746753</td>\n",
       "      <td>25563.168831</td>\n",
       "      <td>49.506494</td>\n",
       "    </tr>\n",
       "    <tr>\n",
       "      <th>std</th>\n",
       "      <td>22.371857</td>\n",
       "      <td>3.682887</td>\n",
       "      <td>11.529957</td>\n",
       "      <td>7.543412</td>\n",
       "      <td>11.823152</td>\n",
       "      <td>7.327716</td>\n",
       "      <td>15293.098259</td>\n",
       "      <td>28.690556</td>\n",
       "    </tr>\n",
       "    <tr>\n",
       "      <th>min</th>\n",
       "      <td>1.000000</td>\n",
       "      <td>0.300000</td>\n",
       "      <td>3.300000</td>\n",
       "      <td>4.700000</td>\n",
       "      <td>2.500000</td>\n",
       "      <td>13.500000</td>\n",
       "      <td>8201.000000</td>\n",
       "      <td>1.000000</td>\n",
       "    </tr>\n",
       "    <tr>\n",
       "      <th>25%</th>\n",
       "      <td>20.000000</td>\n",
       "      <td>2.300000</td>\n",
       "      <td>13.200000</td>\n",
       "      <td>9.200000</td>\n",
       "      <td>11.800000</td>\n",
       "      <td>32.000000</td>\n",
       "      <td>15754.000000</td>\n",
       "      <td>25.000000</td>\n",
       "    </tr>\n",
       "    <tr>\n",
       "      <th>50%</th>\n",
       "      <td>39.000000</td>\n",
       "      <td>3.800000</td>\n",
       "      <td>18.900000</td>\n",
       "      <td>13.900000</td>\n",
       "      <td>18.500000</td>\n",
       "      <td>38.100000</td>\n",
       "      <td>21323.000000</td>\n",
       "      <td>50.000000</td>\n",
       "    </tr>\n",
       "    <tr>\n",
       "      <th>75%</th>\n",
       "      <td>58.000000</td>\n",
       "      <td>6.800000</td>\n",
       "      <td>29.200000</td>\n",
       "      <td>20.000000</td>\n",
       "      <td>26.600000</td>\n",
       "      <td>40.500000</td>\n",
       "      <td>28887.000000</td>\n",
       "      <td>74.000000</td>\n",
       "    </tr>\n",
       "    <tr>\n",
       "      <th>max</th>\n",
       "      <td>77.000000</td>\n",
       "      <td>15.800000</td>\n",
       "      <td>56.500000</td>\n",
       "      <td>35.900000</td>\n",
       "      <td>54.800000</td>\n",
       "      <td>51.500000</td>\n",
       "      <td>88669.000000</td>\n",
       "      <td>98.000000</td>\n",
       "    </tr>\n",
       "  </tbody>\n",
       "</table>\n",
       "</div>"
      ],
      "text/plain": [
       "       Community Area Number  PERCENT OF HOUSING CROWDED  \\\n",
       "count              77.000000                   77.000000   \n",
       "mean               39.000000                    4.923377   \n",
       "std                22.371857                    3.682887   \n",
       "min                 1.000000                    0.300000   \n",
       "25%                20.000000                    2.300000   \n",
       "50%                39.000000                    3.800000   \n",
       "75%                58.000000                    6.800000   \n",
       "max                77.000000                   15.800000   \n",
       "\n",
       "       PERCENT HOUSEHOLDS BELOW POVERTY  PERCENT AGED 16+ UNEMPLOYED  \\\n",
       "count                         77.000000                    77.000000   \n",
       "mean                          21.766234                    15.372727   \n",
       "std                           11.529957                     7.543412   \n",
       "min                            3.300000                     4.700000   \n",
       "25%                           13.200000                     9.200000   \n",
       "50%                           18.900000                    13.900000   \n",
       "75%                           29.200000                    20.000000   \n",
       "max                           56.500000                    35.900000   \n",
       "\n",
       "       PERCENT AGED 25+ WITHOUT HIGH SCHOOL DIPLOMA  \\\n",
       "count                                     77.000000   \n",
       "mean                                      20.341558   \n",
       "std                                       11.823152   \n",
       "min                                        2.500000   \n",
       "25%                                       11.800000   \n",
       "50%                                       18.500000   \n",
       "75%                                       26.600000   \n",
       "max                                       54.800000   \n",
       "\n",
       "       PERCENT AGED UNDER 18 OR OVER 64  PER CAPITA INCOME   HARDSHIP INDEX  \n",
       "count                         77.000000           77.000000       77.000000  \n",
       "mean                          35.746753        25563.168831       49.506494  \n",
       "std                            7.327716        15293.098259       28.690556  \n",
       "min                           13.500000         8201.000000        1.000000  \n",
       "25%                           32.000000        15754.000000       25.000000  \n",
       "50%                           38.100000        21323.000000       50.000000  \n",
       "75%                           40.500000        28887.000000       74.000000  \n",
       "max                           51.500000        88669.000000       98.000000  "
      ]
     },
     "execution_count": 24,
     "metadata": {},
     "output_type": "execute_result"
    }
   ],
   "source": [
    "\n",
    "import pandas as pd\n",
    "from sklearn import linear_model\n",
    "from  matplotlib import pyplot \n",
    "import numpy as np \n",
    "%matplotlib inline\n",
    "\n",
    "\n",
    "Crimes= pd.read_csv('ChicagoSocioecon.csv') \n",
    "A = Crimes.drop('PER CAPITA INCOME ', axis=1)\n",
    "A = Crimes.drop('COMMUNITY AREA NAME', axis=1)\n",
    "\n",
    "X=A.drop(A.index[77])\n",
    "\n",
    "B= Crimes['PER CAPITA INCOME ']\n",
    "y= B.drop(B.index[77])\n",
    "\n",
    "X.describe()\n"
   ]
  },
  {
   "cell_type": "markdown",
   "metadata": {},
   "source": [
    "### ACTUAL VS PREDICTED DATA\n",
    "\n",
    "It is showing the comparison between the predicted data from the trained data set and we can compare it to the actual to see the difference"
   ]
  },
  {
   "cell_type": "code",
   "execution_count": 8,
   "metadata": {},
   "outputs": [
    {
     "data": {
      "text/html": [
       "<div>\n",
       "<style scoped>\n",
       "    .dataframe tbody tr th:only-of-type {\n",
       "        vertical-align: middle;\n",
       "    }\n",
       "\n",
       "    .dataframe tbody tr th {\n",
       "        vertical-align: top;\n",
       "    }\n",
       "\n",
       "    .dataframe thead th {\n",
       "        text-align: right;\n",
       "    }\n",
       "</style>\n",
       "<table border=\"1\" class=\"dataframe\">\n",
       "  <thead>\n",
       "    <tr style=\"text-align: right;\">\n",
       "      <th></th>\n",
       "      <th>Actual</th>\n",
       "      <th>Predicted</th>\n",
       "    </tr>\n",
       "  </thead>\n",
       "  <tbody>\n",
       "    <tr>\n",
       "      <th>49</th>\n",
       "      <td>17949</td>\n",
       "      <td>18672.0</td>\n",
       "    </tr>\n",
       "    <tr>\n",
       "      <th>75</th>\n",
       "      <td>27149</td>\n",
       "      <td>27751.0</td>\n",
       "    </tr>\n",
       "    <tr>\n",
       "      <th>60</th>\n",
       "      <td>22694</td>\n",
       "      <td>23939.0</td>\n",
       "    </tr>\n",
       "    <tr>\n",
       "      <th>55</th>\n",
       "      <td>22677</td>\n",
       "      <td>23472.0</td>\n",
       "    </tr>\n",
       "    <tr>\n",
       "      <th>35</th>\n",
       "      <td>23791</td>\n",
       "      <td>23472.0</td>\n",
       "    </tr>\n",
       "    <tr>\n",
       "      <th>27</th>\n",
       "      <td>12961</td>\n",
       "      <td>13231.0</td>\n",
       "    </tr>\n",
       "    <tr>\n",
       "      <th>69</th>\n",
       "      <td>17285</td>\n",
       "      <td>18672.0</td>\n",
       "    </tr>\n",
       "    <tr>\n",
       "      <th>34</th>\n",
       "      <td>16148</td>\n",
       "      <td>13231.0</td>\n",
       "    </tr>\n",
       "    <tr>\n",
       "      <th>46</th>\n",
       "      <td>16579</td>\n",
       "      <td>16444.0</td>\n",
       "    </tr>\n",
       "    <tr>\n",
       "      <th>70</th>\n",
       "      <td>23482</td>\n",
       "      <td>23939.0</td>\n",
       "    </tr>\n",
       "    <tr>\n",
       "      <th>28</th>\n",
       "      <td>44689</td>\n",
       "      <td>44164.0</td>\n",
       "    </tr>\n",
       "    <tr>\n",
       "      <th>61</th>\n",
       "      <td>12765</td>\n",
       "      <td>12171.0</td>\n",
       "    </tr>\n",
       "    <tr>\n",
       "      <th>4</th>\n",
       "      <td>37524</td>\n",
       "      <td>39523.0</td>\n",
       "    </tr>\n",
       "    <tr>\n",
       "      <th>43</th>\n",
       "      <td>19398</td>\n",
       "      <td>18672.0</td>\n",
       "    </tr>\n",
       "    <tr>\n",
       "      <th>44</th>\n",
       "      <td>18881</td>\n",
       "      <td>18672.0</td>\n",
       "    </tr>\n",
       "    <tr>\n",
       "      <th>8</th>\n",
       "      <td>88669</td>\n",
       "      <td>43198.0</td>\n",
       "    </tr>\n",
       "  </tbody>\n",
       "</table>\n",
       "</div>"
      ],
      "text/plain": [
       "    Actual  Predicted\n",
       "49   17949    18672.0\n",
       "75   27149    27751.0\n",
       "60   22694    23939.0\n",
       "55   22677    23472.0\n",
       "35   23791    23472.0\n",
       "27   12961    13231.0\n",
       "69   17285    18672.0\n",
       "34   16148    13231.0\n",
       "46   16579    16444.0\n",
       "70   23482    23939.0\n",
       "28   44689    44164.0\n",
       "61   12765    12171.0\n",
       "4    37524    39523.0\n",
       "43   19398    18672.0\n",
       "44   18881    18672.0\n",
       "8    88669    43198.0"
      ]
     },
     "execution_count": 8,
     "metadata": {},
     "output_type": "execute_result"
    }
   ],
   "source": [
    "from sklearn.model_selection import train_test_split  \n",
    "X_train, X_test, y_train, y_test = train_test_split(X, y, test_size=0.2, random_state=0)  \n",
    "from sklearn.tree import DecisionTreeRegressor  \n",
    "regressor = DecisionTreeRegressor()  \n",
    "regressor.fit(X_train, y_train) \n",
    "y_pred = regressor.predict(X_test)  \n",
    "df=pd.DataFrame({'Actual':y_test, 'Predicted':y_pred})  \n",
    "df.index+=1\n",
    "df"
   ]
  },
  {
   "cell_type": "markdown",
   "metadata": {},
   "source": [
    "### Model Statistics"
   ]
  },
  {
   "cell_type": "code",
   "execution_count": 10,
   "metadata": {},
   "outputs": [
    {
     "name": "stdout",
     "output_type": "stream",
     "text": [
      "Mean Absolute Error: 3648.375\n",
      "Mean Squared Error: 130419289.75\n",
      "Root Mean Squared Error: 11420.126520752736\n"
     ]
    }
   ],
   "source": [
    "from sklearn import metrics  \n",
    "print('Mean Absolute Error:', metrics.mean_absolute_error(y_test, y_pred))  \n",
    "print('Mean Squared Error:', metrics.mean_squared_error(y_test, y_pred))  \n",
    "print('Root Mean Squared Error:', np.sqrt(metrics.mean_squared_error(y_test, y_pred)))"
   ]
  },
  {
   "cell_type": "markdown",
   "metadata": {},
   "source": [
    "##### The mean absolute error for our algorithm  is less than 10 percent of the mean of all the values in the 'Per Capita Income' column. This means that our algorithm did a fine prediction job."
   ]
  },
  {
   "cell_type": "markdown",
   "metadata": {},
   "source": [
    "### DECISION TREE REGRESSION VISUALIZATION"
   ]
  },
  {
   "cell_type": "code",
   "execution_count": 26,
   "metadata": {},
   "outputs": [
    {
     "data": {
      "text/plain": [
       "Text(0, 0.5, 'Per Capita Income')"
      ]
     },
     "execution_count": 26,
     "metadata": {},
     "output_type": "execute_result"
    },
    {
     "data": {
      "image/png": "[encoded data removed]",
      "text/plain": [
       "<Figure size 720x360 with 1 Axes>"
      ]
     },
     "metadata": {
      "needs_background": "light"
     },
     "output_type": "display_data"
    }
   ],
   "source": [
    "ax = df[['Actual','Predicted']].plot(kind='bar', title =\"Actual Vs Predicted\", figsize=(10, 5), legend=True, fontsize=12)\n",
    "ax.set_xlabel(\"Community Area Number\", fontsize=12)\n",
    "ax.set_ylabel(\"Per Capita Income\", fontsize=12)\n"
   ]
  },
  {
   "cell_type": "markdown",
   "metadata": {},
   "source": [
    "# Visualization: \n",
    "Provide at least two distinct visualizations of your data or final results. This means two different techniques. If you use bar charts to analyze one aspect of your data, while you may use bar charts again, the second use will not count as a distinct visualization."
   ]
  },
  {
   "cell_type": "markdown",
   "metadata": {},
   "source": [
    "### Per Capita Income vs Crime Count Visualization\n",
    "The visulization below proves that Per Capita Income and Crimes are indirectly related. Line Chart was used to represent this type of data because we wanted to see the correlation between Per Capita Income and Crime Count in Chicago and Line Chart below quite brilliantly depicts the indirect correlation between the two variable which are being compared. "
   ]
  },
  {
   "cell_type": "code",
   "execution_count": 12,
   "metadata": {},
   "outputs": [
    {
     "ename": "NameError",
     "evalue": "name 'socioecon' is not defined",
     "output_type": "error",
     "traceback": [
      "\u001b[0;31m---------------------------------------------------------------------------\u001b[0m",
      "\u001b[0;31mNameError\u001b[0m                                 Traceback (most recent call last)",
      "\u001b[0;32m<ipython-input-12-33477046fa45>\u001b[0m in \u001b[0;36m<module>\u001b[0;34m\u001b[0m\n\u001b[1;32m     13\u001b[0m \u001b[0;34m\u001b[0m\u001b[0m\n\u001b[1;32m     14\u001b[0m \u001b[0;31m# Collect X and Y\u001b[0m\u001b[0;34m\u001b[0m\u001b[0;34m\u001b[0m\u001b[0;34m\u001b[0m\u001b[0m\n\u001b[0;32m---> 15\u001b[0;31m \u001b[0mX\u001b[0m \u001b[0;34m=\u001b[0m \u001b[0msocioecon\u001b[0m\u001b[0;34m[\u001b[0m\u001b[0;34m'PER CAPITA INCOME '\u001b[0m\u001b[0;34m]\u001b[0m\u001b[0;34m.\u001b[0m\u001b[0mvalues\u001b[0m\u001b[0;34m.\u001b[0m\u001b[0mreshape\u001b[0m\u001b[0;34m(\u001b[0m\u001b[0;34m-\u001b[0m\u001b[0;36m1\u001b[0m\u001b[0;34m,\u001b[0m \u001b[0;36m1\u001b[0m\u001b[0;34m)\u001b[0m\u001b[0;34m\u001b[0m\u001b[0;34m\u001b[0m\u001b[0m\n\u001b[0m\u001b[1;32m     16\u001b[0m \u001b[0my\u001b[0m \u001b[0;34m=\u001b[0m \u001b[0marrest\u001b[0m\u001b[0;34m[\u001b[0m\u001b[0;34m'Crime Count'\u001b[0m\u001b[0;34m]\u001b[0m\u001b[0;34m.\u001b[0m\u001b[0mvalues\u001b[0m\u001b[0;34m\u001b[0m\u001b[0;34m\u001b[0m\u001b[0m\n\u001b[1;32m     17\u001b[0m \u001b[0;34m\u001b[0m\u001b[0m\n",
      "\u001b[0;31mNameError\u001b[0m: name 'socioecon' is not defined"
     ]
    }
   ],
   "source": [
    "# Import libraries\n",
    "import pandas as pd\n",
    "import numpy as np\n",
    "import seaborn as sns\n",
    "#import geopandas as gpd\n",
    "%matplotlib inline\n",
    "import matplotlib.pyplot as plt\n",
    "from sklearn.linear_model import LinearRegression\n",
    "from sklearn.model_selection import train_test_split\n",
    "from sklearn.metrics import mean_squared_error, r2_score\n",
    "\n",
    "\n",
    "\n",
    "# Collect X and Y\n",
    "X = socioecon['PER CAPITA INCOME '].values.reshape(-1, 1)\n",
    "y = arrest['Crime Count'].values\n",
    "\n",
    "# Split the data into training/testing sets\n",
    "X_train, X_test, y_train, y_test = train_test_split(X, y, test_size=0.3)\n",
    "\n",
    "# Create regression line\n",
    "reg = LinearRegression().fit(X_train, y_train)\n",
    "\n",
    "y_pred = reg.predict(X_test)\n",
    "# mean_squared_error(y_test, y_pred)\n",
    "var = r2_score(y_test, y_pred) \n",
    "\n",
    "print('Coefficient: ', reg.coef_)\n",
    "print('Variance [R^2]: ', var)\n",
    "\n",
    "# Plot outputs\n",
    "plt.scatter(X_test, y_test,  color='red')\n",
    "plt.plot(X_test, y_pred, color='black', linewidth=3)\n",
    "plt.title('Income v. Crime Count', size=20)\n",
    "plt.xticks()\n",
    "plt.yticks()\n",
    "plt.xlabel('Per Capita Income')\n",
    "plt.ylabel('Crime Count')\n"
   ]
  },
  {
   "cell_type": "markdown",
   "metadata": {},
   "source": [
    "# VIZULIZATION 2\n",
    "\n",
    "Unemployment rate of communites with the top 10 highest crime rate in Chicago vs Bottom 10.\n",
    "\n",
    "![Fig. 1](img/top10plot.png)\n",
    "\n",
    "![Fig. 2](img/bottom10.png)\n",
    "\n",
    "Conclusions from comparing these two bar plots:<br>\n",
    "    From comparing these two bar plots, we can see that in the neighborhoods with the top 10 crime rates in Chicago (Austin was removed because it accounts for ~6.5% of all crime in chicago, more than double the second highest, and is a glaring outlier), all hover around a similar unemployment rate. The average unemployment rate for these top 10 is %23.5 and as you can see from the graph, there is very little deviation from this number for these neighborhoods. <br>    \n",
    "    The plot with 10 lowest crime-rate communites in chicago has a much lower average unemployment rate, even with an outlier (Fuller Park). The actual Average is closer to %7 than the reported %14.45. So there is a significant gap between these communites and the 10 shown in the first plot, and that the unemployment rate is a significant element when it comes to crime rate in communities.<br>    \n",
    "    Intuition would say that obviously neighborhoods with high unemployment rate would have a lot of crime, since there a lot of (usually young men) out of work and more willing to take risks and turn to crime. While this data is not hard evidence of such a relationship, it does show there is a definite pattern beteween the two. High unemployment rate is a feature of lower-class communites, and it is a symptom of the middle class disappearing. Most of the good jobs in Chicago are not going to the citizens who live there it would seem."
   ]
  },
  {
   "cell_type": "markdown",
   "metadata": {},
   "source": [
    "# Additional work\n",
    "In addition to the requirements in the ML and visualization sections above, we would like to see at least one extra from either category. That means a total of five deliverables.\n"
   ]
  },
  {
   "cell_type": "markdown",
   "metadata": {},
   "source": [
    "# Results STILL NEED TO UPDATE THIS SECTION\n",
    "Fully explain and analyze the results from your data, i.e. the inferences or correlations you uncovered, the tools you built, or the visualizations you created.\n",
    "\n",
    "After doing a bit of data analysis, a key insight we have found is that middle class is actually disappearing. After looking at the per capita income visualization per community from above, we have noted that communities with low income have higher crime counts. Thus, we believe that per capita income has major effects on crime rate in chicago. This is a very imporatant insight in this project. Another insight, we have understood is that not having a highschool diploma also has impacts on crime counts. After closely analyzing the \"Highschool Education in Each Community\" visualization and comparing it against \"Crime count per Chicago Community Area\" visualization, we analyzed that communities with higher high school dropouts have higher crime counts. Its a direct relationship.This was another very interesting insight.\n",
    "There are few concrete result we can show at this point. Based on our data analysis and viusalizations above, we can conclude the following:\n",
    "As per capita income goes up the crime count decreases.(per community)\n",
    "As unemployment rate goes up the crime count increases.(per community)\n",
    "As high drop out rate increases, the crime count increases.(per community)\n",
    "We are currently using these three factors to predict for each community whether, the crime rate will increase or decrease in the future. We are taking advantage of linear regression.\n"
   ]
  },
  {
   "cell_type": "code",
   "execution_count": null,
   "metadata": {},
   "outputs": [],
   "source": []
  }
 ],
 "metadata": {
  "kernelspec": {
   "display_name": "Python 3",
   "language": "python",
   "name": "python3"
  },
  "language_info": {
   "codemirror_mode": {
    "name": "ipython",
    "version": 3
   },
   "file_extension": ".py",
   "mimetype": "text/x-python",
   "name": "python",
   "nbconvert_exporter": "python",
   "pygments_lexer": "ipython3",
   "version": "3.7.3"
  }
 },
 "nbformat": 4,
 "nbformat_minor": 2
}
